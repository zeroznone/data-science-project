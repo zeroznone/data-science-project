{
  "nbformat": 4,
  "nbformat_minor": 0,
  "metadata": {
    "colab": {
      "name": "CAR prediction.ipynb",
      "provenance": [],
      "collapsed_sections": [],
      "authorship_tag": "ABX9TyMgLxqSx8Y0XdlgF1baTAoG",
      "include_colab_link": true
    },
    "kernelspec": {
      "display_name": "Python 3",
      "name": "python3"
    },
    "language_info": {
      "name": "python"
    }
  },
  "cells": [
    {
      "cell_type": "markdown",
      "metadata": {
        "id": "view-in-github",
        "colab_type": "text"
      },
      "source": [
        "<a href=\"https://colab.research.google.com/github/zeroznone/data-science-project/blob/main/CAR_prediction.ipynb\" target=\"_parent\"><img src=\"https://colab.research.google.com/assets/colab-badge.svg\" alt=\"Open In Colab\"/></a>"
      ]
    },
    {
      "cell_type": "code",
      "metadata": {
        "id": "HDYfs4-9wgrX"
      },
      "source": [
        "import pandas as pd\n",
        "import matplotlib.pyplot as plt\n",
        "import seaborn as sns\n",
        "from sklearn.model_selection import train_test_split\n",
        "from sklearn.linear_model import LinearRegression\n",
        "from sklearn.linear_model import LinearRegression\n",
        "from sklearn import metrics\n",
        "%matplotlib inline"
      ],
      "execution_count": 1,
      "outputs": []
    },
    {
      "cell_type": "code",
      "metadata": {
        "id": "6ohxT5_5xjrC"
      },
      "source": [
        "cd= pd.read_csv(\"/content/Cardekho_Extract.csv\")"
      ],
      "execution_count": 2,
      "outputs": []
    },
    {
      "cell_type": "code",
      "metadata": {
        "colab": {
          "base_uri": "https://localhost:8080/",
          "height": 1000
        },
        "id": "EVJVw8NAxvtt",
        "outputId": "4049e870-d1c5-4133-e0d9-fc2bc454f11c"
      },
      "source": [
        "cd"
      ],
      "execution_count": 3,
      "outputs": [
        {
          "output_type": "execute_result",
          "data": {
            "text/html": [
              "<div>\n",
              "<style scoped>\n",
              "    .dataframe tbody tr th:only-of-type {\n",
              "        vertical-align: middle;\n",
              "    }\n",
              "\n",
              "    .dataframe tbody tr th {\n",
              "        vertical-align: top;\n",
              "    }\n",
              "\n",
              "    .dataframe thead th {\n",
              "        text-align: right;\n",
              "    }\n",
              "</style>\n",
              "<table border=\"1\" class=\"dataframe\">\n",
              "  <thead>\n",
              "    <tr style=\"text-align: right;\">\n",
              "      <th></th>\n",
              "      <th>Source.Name</th>\n",
              "      <th>web-scraper-order</th>\n",
              "      <th>web-scraper-start-url</th>\n",
              "      <th>full_name</th>\n",
              "      <th>selling_price</th>\n",
              "      <th>new-price</th>\n",
              "      <th>year</th>\n",
              "      <th>seller_type</th>\n",
              "      <th>km_driven</th>\n",
              "      <th>owner_type</th>\n",
              "      <th>fuel_type</th>\n",
              "      <th>transmission_type</th>\n",
              "      <th>mileage</th>\n",
              "      <th>engine</th>\n",
              "      <th>max_power</th>\n",
              "      <th>seats</th>\n",
              "    </tr>\n",
              "  </thead>\n",
              "  <tbody>\n",
              "    <tr>\n",
              "      <th>0</th>\n",
              "      <td>cardekho_extract(0-2000).csv</td>\n",
              "      <td>1611917819-1662</td>\n",
              "      <td>https://www.cardekho.com/used-car-details/used...</td>\n",
              "      <td>Maruti Alto Std</td>\n",
              "      <td>1.2 Lakh*</td>\n",
              "      <td>NaN</td>\n",
              "      <td>2012.0</td>\n",
              "      <td>Individual</td>\n",
              "      <td>1,20,000 kms</td>\n",
              "      <td>First Owner</td>\n",
              "      <td>Petrol</td>\n",
              "      <td>Manual</td>\n",
              "      <td>Mileage19.7 kmpl</td>\n",
              "      <td>Engine796 CC</td>\n",
              "      <td>Max Power46.3 bhp</td>\n",
              "      <td>Seats5</td>\n",
              "    </tr>\n",
              "    <tr>\n",
              "      <th>1</th>\n",
              "      <td>cardekho_extract(0-2000).csv</td>\n",
              "      <td>1611918361-1902</td>\n",
              "      <td>https://www.cardekho.com/used-car-details/used...</td>\n",
              "      <td>Hyundai Grand i10 Asta</td>\n",
              "      <td>5.5 Lakh*</td>\n",
              "      <td>New Car (On-Road Price) : Rs.7.11-7.48 Lakh*</td>\n",
              "      <td>2016.0</td>\n",
              "      <td>Individual</td>\n",
              "      <td>20,000 kms</td>\n",
              "      <td>First Owner</td>\n",
              "      <td>Petrol</td>\n",
              "      <td>Manual</td>\n",
              "      <td>Mileage18.9 kmpl</td>\n",
              "      <td>Engine1197 CC</td>\n",
              "      <td>Max Power82 bhp</td>\n",
              "      <td>Seats5</td>\n",
              "    </tr>\n",
              "    <tr>\n",
              "      <th>2</th>\n",
              "      <td>cardekho_extract(0-2000).csv</td>\n",
              "      <td>1611917012-1306</td>\n",
              "      <td>https://www.cardekho.com/used-car-details/used...</td>\n",
              "      <td>Hyundai i20 Asta</td>\n",
              "      <td>2.15 Lakh*</td>\n",
              "      <td>NaN</td>\n",
              "      <td>2010.0</td>\n",
              "      <td>Individual</td>\n",
              "      <td>60,000 kms</td>\n",
              "      <td>First Owner</td>\n",
              "      <td>Petrol</td>\n",
              "      <td>Manual</td>\n",
              "      <td>Mileage17.0 kmpl</td>\n",
              "      <td>Engine1197 CC</td>\n",
              "      <td>Max Power80 bhp</td>\n",
              "      <td>Seats5</td>\n",
              "    </tr>\n",
              "    <tr>\n",
              "      <th>3</th>\n",
              "      <td>cardekho_extract(0-2000).csv</td>\n",
              "      <td>1611917695-1607</td>\n",
              "      <td>https://www.cardekho.com/used-car-details/used...</td>\n",
              "      <td>Maruti Alto K10 2010-2014 VXI</td>\n",
              "      <td>2.26 Lakh*</td>\n",
              "      <td>NaN</td>\n",
              "      <td>2012.0</td>\n",
              "      <td>Individual</td>\n",
              "      <td>37,000 kms</td>\n",
              "      <td>First Owner</td>\n",
              "      <td>Petrol</td>\n",
              "      <td>Manual</td>\n",
              "      <td>Mileage20.92 kmpl</td>\n",
              "      <td>Engine998 CC</td>\n",
              "      <td>Max Power67.1 bhp</td>\n",
              "      <td>Seats5</td>\n",
              "    </tr>\n",
              "    <tr>\n",
              "      <th>4</th>\n",
              "      <td>cardekho_extract(0-2000).csv</td>\n",
              "      <td>1611914861-367</td>\n",
              "      <td>https://www.cardekho.com/used-car-details/used...</td>\n",
              "      <td>Ford Ecosport 2015-2021 1.5 TDCi Titanium BSIV</td>\n",
              "      <td>5.7 Lakh*</td>\n",
              "      <td>New Car (On-Road Price) : Rs.10.14-13.79 Lakh*</td>\n",
              "      <td>2015.0</td>\n",
              "      <td>Dealer</td>\n",
              "      <td>30,000 kms</td>\n",
              "      <td>First Owner</td>\n",
              "      <td>Diesel</td>\n",
              "      <td>Manual</td>\n",
              "      <td>Mileage22.77 kmpl</td>\n",
              "      <td>Engine1498 CC</td>\n",
              "      <td>Max Power98.59 bhp</td>\n",
              "      <td>Seats5</td>\n",
              "    </tr>\n",
              "    <tr>\n",
              "      <th>...</th>\n",
              "      <td>...</td>\n",
              "      <td>...</td>\n",
              "      <td>...</td>\n",
              "      <td>...</td>\n",
              "      <td>...</td>\n",
              "      <td>...</td>\n",
              "      <td>...</td>\n",
              "      <td>...</td>\n",
              "      <td>...</td>\n",
              "      <td>...</td>\n",
              "      <td>...</td>\n",
              "      <td>...</td>\n",
              "      <td>...</td>\n",
              "      <td>...</td>\n",
              "      <td>...</td>\n",
              "      <td>...</td>\n",
              "    </tr>\n",
              "    <tr>\n",
              "      <th>11996</th>\n",
              "      <td>cardekho_extract(17001-20037).csv</td>\n",
              "      <td>1612171416-4838</td>\n",
              "      <td>https://www.cardekho.com/used-car-details/used...</td>\n",
              "      <td>Hyundai Santro Xing GLS</td>\n",
              "      <td>2 Lakh*</td>\n",
              "      <td>NaN</td>\n",
              "      <td>2014.0</td>\n",
              "      <td>Individual</td>\n",
              "      <td>40,000 kms</td>\n",
              "      <td>First Owner</td>\n",
              "      <td>Petrol</td>\n",
              "      <td>Manual</td>\n",
              "      <td>Mileage17.92 kmpl</td>\n",
              "      <td>Engine1086 CC</td>\n",
              "      <td>Max Power62.1 bhp</td>\n",
              "      <td>Seats5</td>\n",
              "    </tr>\n",
              "    <tr>\n",
              "      <th>11997</th>\n",
              "      <td>cardekho_extract(17001-20037).csv</td>\n",
              "      <td>1612175402-6620</td>\n",
              "      <td>https://www.cardekho.com/used-car-details/used...</td>\n",
              "      <td>Hyundai Creta 1.6 VTVT E Plus</td>\n",
              "      <td>8.4 Lakh*</td>\n",
              "      <td>NaN</td>\n",
              "      <td>2017.0</td>\n",
              "      <td>Dealer</td>\n",
              "      <td>15,000 kms</td>\n",
              "      <td>First Owner</td>\n",
              "      <td>Petrol</td>\n",
              "      <td>Manual</td>\n",
              "      <td>Mileage15.29 kmpl</td>\n",
              "      <td>Engine1591 CC</td>\n",
              "      <td>Max Power121.3 bhp</td>\n",
              "      <td>Seats5</td>\n",
              "    </tr>\n",
              "    <tr>\n",
              "      <th>11998</th>\n",
              "      <td>cardekho_extract(17001-20037).csv</td>\n",
              "      <td>1612175451-6642</td>\n",
              "      <td>https://www.cardekho.com/used-car-details/used...</td>\n",
              "      <td>Ford Freestyle Titanium Plus Petrol BSIV</td>\n",
              "      <td>7.25 Lakh*</td>\n",
              "      <td>New Car (On-Road Price) : Rs.6.93-9.13 Lakh*</td>\n",
              "      <td>2018.0</td>\n",
              "      <td>Individual</td>\n",
              "      <td>20,000 kms</td>\n",
              "      <td>First Owner</td>\n",
              "      <td>Petrol</td>\n",
              "      <td>Manual</td>\n",
              "      <td>Mileage19.0 kmpl</td>\n",
              "      <td>Engine1194 CC</td>\n",
              "      <td>Max Power94.68 bhp</td>\n",
              "      <td>Seats5</td>\n",
              "    </tr>\n",
              "    <tr>\n",
              "      <th>11999</th>\n",
              "      <td>cardekho_extract(17001-20037).csv</td>\n",
              "      <td>1612175293-6572</td>\n",
              "      <td>https://www.cardekho.com/used-car-details/used...</td>\n",
              "      <td>BMW X1 sDrive20d</td>\n",
              "      <td>11.5 Lakh*</td>\n",
              "      <td>New Car (On-Road Price) : Rs.49.26-50.87 Lakh*</td>\n",
              "      <td>2010.0</td>\n",
              "      <td>Dealer</td>\n",
              "      <td>1,06,271 kms</td>\n",
              "      <td>First Owner</td>\n",
              "      <td>Diesel</td>\n",
              "      <td>Automatic</td>\n",
              "      <td>Mileage17.05 kmpl</td>\n",
              "      <td>Engine1995 CC</td>\n",
              "      <td>Max Power184 bhp</td>\n",
              "      <td>Seats5</td>\n",
              "    </tr>\n",
              "    <tr>\n",
              "      <th>12000</th>\n",
              "      <td>cardekho_extract(17001-20037).csv</td>\n",
              "      <td>1612171589-4916</td>\n",
              "      <td>https:/</td>\n",
              "      <td>NaN</td>\n",
              "      <td>NaN</td>\n",
              "      <td>NaN</td>\n",
              "      <td>NaN</td>\n",
              "      <td>NaN</td>\n",
              "      <td>NaN</td>\n",
              "      <td>NaN</td>\n",
              "      <td>NaN</td>\n",
              "      <td>NaN</td>\n",
              "      <td>NaN</td>\n",
              "      <td>NaN</td>\n",
              "      <td>NaN</td>\n",
              "      <td>NaN</td>\n",
              "    </tr>\n",
              "  </tbody>\n",
              "</table>\n",
              "<p>12001 rows × 16 columns</p>\n",
              "</div>"
            ],
            "text/plain": [
              "                             Source.Name  ...   seats\n",
              "0           cardekho_extract(0-2000).csv  ...  Seats5\n",
              "1           cardekho_extract(0-2000).csv  ...  Seats5\n",
              "2           cardekho_extract(0-2000).csv  ...  Seats5\n",
              "3           cardekho_extract(0-2000).csv  ...  Seats5\n",
              "4           cardekho_extract(0-2000).csv  ...  Seats5\n",
              "...                                  ...  ...     ...\n",
              "11996  cardekho_extract(17001-20037).csv  ...  Seats5\n",
              "11997  cardekho_extract(17001-20037).csv  ...  Seats5\n",
              "11998  cardekho_extract(17001-20037).csv  ...  Seats5\n",
              "11999  cardekho_extract(17001-20037).csv  ...  Seats5\n",
              "12000  cardekho_extract(17001-20037).csv  ...     NaN\n",
              "\n",
              "[12001 rows x 16 columns]"
            ]
          },
          "metadata": {},
          "execution_count": 3
        }
      ]
    },
    {
      "cell_type": "code",
      "metadata": {
        "colab": {
          "base_uri": "https://localhost:8080/"
        },
        "id": "zDpV9PFa38an",
        "outputId": "36402548-4aeb-4488-a3c2-62f010a849b7"
      },
      "source": [
        "cd.columns"
      ],
      "execution_count": 4,
      "outputs": [
        {
          "output_type": "execute_result",
          "data": {
            "text/plain": [
              "Index(['Source.Name', 'web-scraper-order', 'web-scraper-start-url',\n",
              "       'full_name', 'selling_price', 'new-price', 'year', 'seller_type',\n",
              "       'km_driven', 'owner_type', 'fuel_type', 'transmission_type', 'mileage',\n",
              "       'engine', 'max_power', 'seats'],\n",
              "      dtype='object')"
            ]
          },
          "metadata": {},
          "execution_count": 4
        }
      ]
    },
    {
      "cell_type": "code",
      "metadata": {
        "id": "X78OU1n7i3Yo"
      },
      "source": [
        "cd.drop_duplicates(inplace=True)"
      ],
      "execution_count": 5,
      "outputs": []
    },
    {
      "cell_type": "code",
      "metadata": {
        "id": "-xqvdHuekW8G"
      },
      "source": [
        "cd.dropna(inplace=True)"
      ],
      "execution_count": 6,
      "outputs": []
    },
    {
      "cell_type": "code",
      "metadata": {
        "id": "3lqQtswNE-aN"
      },
      "source": [
        "cd['selling_price']= cd['selling_price'].str.split(expand=True).drop([1],axis=1)"
      ],
      "execution_count": 7,
      "outputs": []
    },
    {
      "cell_type": "code",
      "metadata": {
        "id": "E29BYY48JHTA"
      },
      "source": [
        "cd['mileage']=cd['mileage'].str.strip('Mileage kmpl')"
      ],
      "execution_count": 8,
      "outputs": []
    },
    {
      "cell_type": "code",
      "metadata": {
        "colab": {
          "base_uri": "https://localhost:8080/",
          "height": 1000
        },
        "id": "r_9wmOFuKqht",
        "outputId": "7804e22b-30b7-446c-b68c-4000558a41df"
      },
      "source": [
        "cd"
      ],
      "execution_count": 9,
      "outputs": [
        {
          "output_type": "execute_result",
          "data": {
            "text/html": [
              "<div>\n",
              "<style scoped>\n",
              "    .dataframe tbody tr th:only-of-type {\n",
              "        vertical-align: middle;\n",
              "    }\n",
              "\n",
              "    .dataframe tbody tr th {\n",
              "        vertical-align: top;\n",
              "    }\n",
              "\n",
              "    .dataframe thead th {\n",
              "        text-align: right;\n",
              "    }\n",
              "</style>\n",
              "<table border=\"1\" class=\"dataframe\">\n",
              "  <thead>\n",
              "    <tr style=\"text-align: right;\">\n",
              "      <th></th>\n",
              "      <th>Source.Name</th>\n",
              "      <th>web-scraper-order</th>\n",
              "      <th>web-scraper-start-url</th>\n",
              "      <th>full_name</th>\n",
              "      <th>selling_price</th>\n",
              "      <th>new-price</th>\n",
              "      <th>year</th>\n",
              "      <th>seller_type</th>\n",
              "      <th>km_driven</th>\n",
              "      <th>owner_type</th>\n",
              "      <th>fuel_type</th>\n",
              "      <th>transmission_type</th>\n",
              "      <th>mileage</th>\n",
              "      <th>engine</th>\n",
              "      <th>max_power</th>\n",
              "      <th>seats</th>\n",
              "    </tr>\n",
              "  </thead>\n",
              "  <tbody>\n",
              "    <tr>\n",
              "      <th>1</th>\n",
              "      <td>cardekho_extract(0-2000).csv</td>\n",
              "      <td>1611918361-1902</td>\n",
              "      <td>https://www.cardekho.com/used-car-details/used...</td>\n",
              "      <td>Hyundai Grand i10 Asta</td>\n",
              "      <td>5.5</td>\n",
              "      <td>New Car (On-Road Price) : Rs.7.11-7.48 Lakh*</td>\n",
              "      <td>2016.0</td>\n",
              "      <td>Individual</td>\n",
              "      <td>20,000 kms</td>\n",
              "      <td>First Owner</td>\n",
              "      <td>Petrol</td>\n",
              "      <td>Manual</td>\n",
              "      <td>18.9</td>\n",
              "      <td>Engine1197 CC</td>\n",
              "      <td>Max Power82 bhp</td>\n",
              "      <td>Seats5</td>\n",
              "    </tr>\n",
              "    <tr>\n",
              "      <th>4</th>\n",
              "      <td>cardekho_extract(0-2000).csv</td>\n",
              "      <td>1611914861-367</td>\n",
              "      <td>https://www.cardekho.com/used-car-details/used...</td>\n",
              "      <td>Ford Ecosport 2015-2021 1.5 TDCi Titanium BSIV</td>\n",
              "      <td>5.7</td>\n",
              "      <td>New Car (On-Road Price) : Rs.10.14-13.79 Lakh*</td>\n",
              "      <td>2015.0</td>\n",
              "      <td>Dealer</td>\n",
              "      <td>30,000 kms</td>\n",
              "      <td>First Owner</td>\n",
              "      <td>Diesel</td>\n",
              "      <td>Manual</td>\n",
              "      <td>22.77</td>\n",
              "      <td>Engine1498 CC</td>\n",
              "      <td>Max Power98.59 bhp</td>\n",
              "      <td>Seats5</td>\n",
              "    </tr>\n",
              "    <tr>\n",
              "      <th>5</th>\n",
              "      <td>cardekho_extract(0-2000).csv</td>\n",
              "      <td>1611917653-1588</td>\n",
              "      <td>https://www.cardekho.com/used-car-details/used...</td>\n",
              "      <td>Maruti Wagon R VXI BS IV</td>\n",
              "      <td>3.5</td>\n",
              "      <td>New Car (On-Road Price) : Rs.5.16-6.94 Lakh*</td>\n",
              "      <td>2013.0</td>\n",
              "      <td>Individual</td>\n",
              "      <td>35,000 kms</td>\n",
              "      <td>First Owner</td>\n",
              "      <td>Petrol</td>\n",
              "      <td>Manual</td>\n",
              "      <td>18.9</td>\n",
              "      <td>Engine998 CC</td>\n",
              "      <td>Max Power67.1 bhp</td>\n",
              "      <td>Seats5</td>\n",
              "    </tr>\n",
              "    <tr>\n",
              "      <th>6</th>\n",
              "      <td>cardekho_extract(0-2000).csv</td>\n",
              "      <td>1611914813-346</td>\n",
              "      <td>https://www.cardekho.com/used-car-details/used...</td>\n",
              "      <td>Hyundai i10 Sportz 1.2</td>\n",
              "      <td>3.15</td>\n",
              "      <td>New Car (On-Road Price) : Rs.6.54-6.63 Lakh*</td>\n",
              "      <td>2013.0</td>\n",
              "      <td>Dealer</td>\n",
              "      <td>40,000 kms</td>\n",
              "      <td>First Owner</td>\n",
              "      <td>Petrol</td>\n",
              "      <td>Manual</td>\n",
              "      <td>20.36</td>\n",
              "      <td>Engine1197 CC</td>\n",
              "      <td>Max Power78.9 bhp</td>\n",
              "      <td>Seats5</td>\n",
              "    </tr>\n",
              "    <tr>\n",
              "      <th>7</th>\n",
              "      <td>cardekho_extract(0-2000).csv</td>\n",
              "      <td>1611914151-53</td>\n",
              "      <td>https://www.cardekho.com/used-car-details/used...</td>\n",
              "      <td>Maruti Wagon R VXI</td>\n",
              "      <td>4.1</td>\n",
              "      <td>New Car (On-Road Price) : Rs.5.26-7.01 Lakh*</td>\n",
              "      <td>2018.0</td>\n",
              "      <td>Dealer</td>\n",
              "      <td>17,512 kms</td>\n",
              "      <td>First Owner</td>\n",
              "      <td>Petrol</td>\n",
              "      <td>Manual</td>\n",
              "      <td>20.51</td>\n",
              "      <td>Engine998 CC</td>\n",
              "      <td>Max Power67.04 bhp</td>\n",
              "      <td>Seats5</td>\n",
              "    </tr>\n",
              "    <tr>\n",
              "      <th>...</th>\n",
              "      <td>...</td>\n",
              "      <td>...</td>\n",
              "      <td>...</td>\n",
              "      <td>...</td>\n",
              "      <td>...</td>\n",
              "      <td>...</td>\n",
              "      <td>...</td>\n",
              "      <td>...</td>\n",
              "      <td>...</td>\n",
              "      <td>...</td>\n",
              "      <td>...</td>\n",
              "      <td>...</td>\n",
              "      <td>...</td>\n",
              "      <td>...</td>\n",
              "      <td>...</td>\n",
              "      <td>...</td>\n",
              "    </tr>\n",
              "    <tr>\n",
              "      <th>11983</th>\n",
              "      <td>cardekho_extract(17001-20037).csv</td>\n",
              "      <td>1612175817-6806</td>\n",
              "      <td>https://www.cardekho.com/used-car-details/used...</td>\n",
              "      <td>Hyundai i20 2015-2017 Asta Option 1.4 CRDi</td>\n",
              "      <td>7.5</td>\n",
              "      <td>New Car (On-Road Price) : Rs.9.44-12.95 Lakh*</td>\n",
              "      <td>2016.0</td>\n",
              "      <td>Dealer</td>\n",
              "      <td>48,000 kms</td>\n",
              "      <td>First Owner</td>\n",
              "      <td>Diesel</td>\n",
              "      <td>Manual</td>\n",
              "      <td>22.54</td>\n",
              "      <td>Engine1396 CC</td>\n",
              "      <td>Max Power88.73 bhp</td>\n",
              "      <td>Seats5</td>\n",
              "    </tr>\n",
              "    <tr>\n",
              "      <th>11984</th>\n",
              "      <td>cardekho_extract(17001-20037).csv</td>\n",
              "      <td>1612170959-4632</td>\n",
              "      <td>https://www.cardekho.com/used-car-details/used...</td>\n",
              "      <td>Maruti Celerio VXI</td>\n",
              "      <td>3.85</td>\n",
              "      <td>New Car (On-Road Price) : Rs.5.03-6.32 Lakh*</td>\n",
              "      <td>2016.0</td>\n",
              "      <td>Dealer</td>\n",
              "      <td>35,000 kms</td>\n",
              "      <td>First Owner</td>\n",
              "      <td>Petrol</td>\n",
              "      <td>Manual</td>\n",
              "      <td>23.1</td>\n",
              "      <td>Engine998 CC</td>\n",
              "      <td>Max Power67.04 bhp</td>\n",
              "      <td>Seats5</td>\n",
              "    </tr>\n",
              "    <tr>\n",
              "      <th>11992</th>\n",
              "      <td>cardekho_extract(17001-20037).csv</td>\n",
              "      <td>1612170820-4570</td>\n",
              "      <td>https://www.cardekho.com/used-car-details/used...</td>\n",
              "      <td>Hyundai Creta 1.4 CRDi S</td>\n",
              "      <td>7.7</td>\n",
              "      <td>New Car (On-Road Price) : Rs.11.49-19.41 Lakh*</td>\n",
              "      <td>2016.0</td>\n",
              "      <td>Individual</td>\n",
              "      <td>1,21,054 kms</td>\n",
              "      <td>First Owner</td>\n",
              "      <td>Diesel</td>\n",
              "      <td>Manual</td>\n",
              "      <td>21.38</td>\n",
              "      <td>Engine1396 CC</td>\n",
              "      <td>Max Power88.7 bhp</td>\n",
              "      <td>Seats5</td>\n",
              "    </tr>\n",
              "    <tr>\n",
              "      <th>11998</th>\n",
              "      <td>cardekho_extract(17001-20037).csv</td>\n",
              "      <td>1612175451-6642</td>\n",
              "      <td>https://www.cardekho.com/used-car-details/used...</td>\n",
              "      <td>Ford Freestyle Titanium Plus Petrol BSIV</td>\n",
              "      <td>7.25</td>\n",
              "      <td>New Car (On-Road Price) : Rs.6.93-9.13 Lakh*</td>\n",
              "      <td>2018.0</td>\n",
              "      <td>Individual</td>\n",
              "      <td>20,000 kms</td>\n",
              "      <td>First Owner</td>\n",
              "      <td>Petrol</td>\n",
              "      <td>Manual</td>\n",
              "      <td>19.0</td>\n",
              "      <td>Engine1194 CC</td>\n",
              "      <td>Max Power94.68 bhp</td>\n",
              "      <td>Seats5</td>\n",
              "    </tr>\n",
              "    <tr>\n",
              "      <th>11999</th>\n",
              "      <td>cardekho_extract(17001-20037).csv</td>\n",
              "      <td>1612175293-6572</td>\n",
              "      <td>https://www.cardekho.com/used-car-details/used...</td>\n",
              "      <td>BMW X1 sDrive20d</td>\n",
              "      <td>11.5</td>\n",
              "      <td>New Car (On-Road Price) : Rs.49.26-50.87 Lakh*</td>\n",
              "      <td>2010.0</td>\n",
              "      <td>Dealer</td>\n",
              "      <td>1,06,271 kms</td>\n",
              "      <td>First Owner</td>\n",
              "      <td>Diesel</td>\n",
              "      <td>Automatic</td>\n",
              "      <td>17.05</td>\n",
              "      <td>Engine1995 CC</td>\n",
              "      <td>Max Power184 bhp</td>\n",
              "      <td>Seats5</td>\n",
              "    </tr>\n",
              "  </tbody>\n",
              "</table>\n",
              "<p>5392 rows × 16 columns</p>\n",
              "</div>"
            ],
            "text/plain": [
              "                             Source.Name  ...   seats\n",
              "1           cardekho_extract(0-2000).csv  ...  Seats5\n",
              "4           cardekho_extract(0-2000).csv  ...  Seats5\n",
              "5           cardekho_extract(0-2000).csv  ...  Seats5\n",
              "6           cardekho_extract(0-2000).csv  ...  Seats5\n",
              "7           cardekho_extract(0-2000).csv  ...  Seats5\n",
              "...                                  ...  ...     ...\n",
              "11983  cardekho_extract(17001-20037).csv  ...  Seats5\n",
              "11984  cardekho_extract(17001-20037).csv  ...  Seats5\n",
              "11992  cardekho_extract(17001-20037).csv  ...  Seats5\n",
              "11998  cardekho_extract(17001-20037).csv  ...  Seats5\n",
              "11999  cardekho_extract(17001-20037).csv  ...  Seats5\n",
              "\n",
              "[5392 rows x 16 columns]"
            ]
          },
          "metadata": {},
          "execution_count": 9
        }
      ]
    },
    {
      "cell_type": "code",
      "metadata": {
        "id": "PF-CyveVQS62"
      },
      "source": [
        "cd['max_power']=cd['max_power'].str.strip('Max Power' 'bhp')"
      ],
      "execution_count": 10,
      "outputs": []
    },
    {
      "cell_type": "code",
      "metadata": {
        "id": "aGNUWBNFyCBi"
      },
      "source": [
        "cd['seats']=(cd['seats'].str.strip(\"Seats\"))"
      ],
      "execution_count": 11,
      "outputs": []
    },
    {
      "cell_type": "code",
      "metadata": {
        "id": "6z2y8ZKXRvlP"
      },
      "source": [
        "cd['km_driven']= cd['km_driven'].str.strip('kms')"
      ],
      "execution_count": 12,
      "outputs": []
    },
    {
      "cell_type": "code",
      "metadata": {
        "id": "ECZxCbanRNLf"
      },
      "source": [
        "cd['engine']=cd['engine'].str.strip('Engine' 'CC')"
      ],
      "execution_count": 13,
      "outputs": []
    },
    {
      "cell_type": "code",
      "metadata": {
        "id": "oolts6l8QrtF"
      },
      "source": [
        "cd.rename(columns={'max_power':'max_power(bhp)',\"selling_price\":\"selling_price(in Lakh*)\",'engine':'engine(cc)','mileage':'mileage(kmpl)'},inplace=True)"
      ],
      "execution_count": 14,
      "outputs": []
    },
    {
      "cell_type": "code",
      "metadata": {
        "colab": {
          "base_uri": "https://localhost:8080/"
        },
        "id": "MlFOtDc1flWJ",
        "outputId": "8e47f35b-6371-43e1-bd38-95449d67e0f7"
      },
      "source": [
        "cd.columns"
      ],
      "execution_count": 15,
      "outputs": [
        {
          "output_type": "execute_result",
          "data": {
            "text/plain": [
              "Index(['Source.Name', 'web-scraper-order', 'web-scraper-start-url',\n",
              "       'full_name', 'selling_price(in Lakh*)', 'new-price', 'year',\n",
              "       'seller_type', 'km_driven', 'owner_type', 'fuel_type',\n",
              "       'transmission_type', 'mileage(kmpl)', 'engine(cc)', 'max_power(bhp)',\n",
              "       'seats'],\n",
              "      dtype='object')"
            ]
          },
          "metadata": {},
          "execution_count": 15
        }
      ]
    },
    {
      "cell_type": "code",
      "metadata": {
        "id": "nuIeg7MAfiSI"
      },
      "source": [
        "cd.drop(['Source.Name', 'web-scraper-order', 'web-scraper-start-url'],inplace=True,axis=1)"
      ],
      "execution_count": 16,
      "outputs": []
    },
    {
      "cell_type": "code",
      "metadata": {
        "colab": {
          "base_uri": "https://localhost:8080/",
          "height": 1000
        },
        "id": "SgSpWVGhSJuk",
        "outputId": "24edabb1-8019-4937-e289-1fc1e6276019"
      },
      "source": [
        "cd"
      ],
      "execution_count": 17,
      "outputs": [
        {
          "output_type": "execute_result",
          "data": {
            "text/html": [
              "<div>\n",
              "<style scoped>\n",
              "    .dataframe tbody tr th:only-of-type {\n",
              "        vertical-align: middle;\n",
              "    }\n",
              "\n",
              "    .dataframe tbody tr th {\n",
              "        vertical-align: top;\n",
              "    }\n",
              "\n",
              "    .dataframe thead th {\n",
              "        text-align: right;\n",
              "    }\n",
              "</style>\n",
              "<table border=\"1\" class=\"dataframe\">\n",
              "  <thead>\n",
              "    <tr style=\"text-align: right;\">\n",
              "      <th></th>\n",
              "      <th>full_name</th>\n",
              "      <th>selling_price(in Lakh*)</th>\n",
              "      <th>new-price</th>\n",
              "      <th>year</th>\n",
              "      <th>seller_type</th>\n",
              "      <th>km_driven</th>\n",
              "      <th>owner_type</th>\n",
              "      <th>fuel_type</th>\n",
              "      <th>transmission_type</th>\n",
              "      <th>mileage(kmpl)</th>\n",
              "      <th>engine(cc)</th>\n",
              "      <th>max_power(bhp)</th>\n",
              "      <th>seats</th>\n",
              "    </tr>\n",
              "  </thead>\n",
              "  <tbody>\n",
              "    <tr>\n",
              "      <th>1</th>\n",
              "      <td>Hyundai Grand i10 Asta</td>\n",
              "      <td>5.5</td>\n",
              "      <td>New Car (On-Road Price) : Rs.7.11-7.48 Lakh*</td>\n",
              "      <td>2016.0</td>\n",
              "      <td>Individual</td>\n",
              "      <td>20,000</td>\n",
              "      <td>First Owner</td>\n",
              "      <td>Petrol</td>\n",
              "      <td>Manual</td>\n",
              "      <td>18.9</td>\n",
              "      <td>1197</td>\n",
              "      <td>82</td>\n",
              "      <td>5</td>\n",
              "    </tr>\n",
              "    <tr>\n",
              "      <th>4</th>\n",
              "      <td>Ford Ecosport 2015-2021 1.5 TDCi Titanium BSIV</td>\n",
              "      <td>5.7</td>\n",
              "      <td>New Car (On-Road Price) : Rs.10.14-13.79 Lakh*</td>\n",
              "      <td>2015.0</td>\n",
              "      <td>Dealer</td>\n",
              "      <td>30,000</td>\n",
              "      <td>First Owner</td>\n",
              "      <td>Diesel</td>\n",
              "      <td>Manual</td>\n",
              "      <td>22.77</td>\n",
              "      <td>1498</td>\n",
              "      <td>98.59</td>\n",
              "      <td>5</td>\n",
              "    </tr>\n",
              "    <tr>\n",
              "      <th>5</th>\n",
              "      <td>Maruti Wagon R VXI BS IV</td>\n",
              "      <td>3.5</td>\n",
              "      <td>New Car (On-Road Price) : Rs.5.16-6.94 Lakh*</td>\n",
              "      <td>2013.0</td>\n",
              "      <td>Individual</td>\n",
              "      <td>35,000</td>\n",
              "      <td>First Owner</td>\n",
              "      <td>Petrol</td>\n",
              "      <td>Manual</td>\n",
              "      <td>18.9</td>\n",
              "      <td>998</td>\n",
              "      <td>67.1</td>\n",
              "      <td>5</td>\n",
              "    </tr>\n",
              "    <tr>\n",
              "      <th>6</th>\n",
              "      <td>Hyundai i10 Sportz 1.2</td>\n",
              "      <td>3.15</td>\n",
              "      <td>New Car (On-Road Price) : Rs.6.54-6.63 Lakh*</td>\n",
              "      <td>2013.0</td>\n",
              "      <td>Dealer</td>\n",
              "      <td>40,000</td>\n",
              "      <td>First Owner</td>\n",
              "      <td>Petrol</td>\n",
              "      <td>Manual</td>\n",
              "      <td>20.36</td>\n",
              "      <td>1197</td>\n",
              "      <td>78.9</td>\n",
              "      <td>5</td>\n",
              "    </tr>\n",
              "    <tr>\n",
              "      <th>7</th>\n",
              "      <td>Maruti Wagon R VXI</td>\n",
              "      <td>4.1</td>\n",
              "      <td>New Car (On-Road Price) : Rs.5.26-7.01 Lakh*</td>\n",
              "      <td>2018.0</td>\n",
              "      <td>Dealer</td>\n",
              "      <td>17,512</td>\n",
              "      <td>First Owner</td>\n",
              "      <td>Petrol</td>\n",
              "      <td>Manual</td>\n",
              "      <td>20.51</td>\n",
              "      <td>998</td>\n",
              "      <td>67.04</td>\n",
              "      <td>5</td>\n",
              "    </tr>\n",
              "    <tr>\n",
              "      <th>...</th>\n",
              "      <td>...</td>\n",
              "      <td>...</td>\n",
              "      <td>...</td>\n",
              "      <td>...</td>\n",
              "      <td>...</td>\n",
              "      <td>...</td>\n",
              "      <td>...</td>\n",
              "      <td>...</td>\n",
              "      <td>...</td>\n",
              "      <td>...</td>\n",
              "      <td>...</td>\n",
              "      <td>...</td>\n",
              "      <td>...</td>\n",
              "    </tr>\n",
              "    <tr>\n",
              "      <th>11983</th>\n",
              "      <td>Hyundai i20 2015-2017 Asta Option 1.4 CRDi</td>\n",
              "      <td>7.5</td>\n",
              "      <td>New Car (On-Road Price) : Rs.9.44-12.95 Lakh*</td>\n",
              "      <td>2016.0</td>\n",
              "      <td>Dealer</td>\n",
              "      <td>48,000</td>\n",
              "      <td>First Owner</td>\n",
              "      <td>Diesel</td>\n",
              "      <td>Manual</td>\n",
              "      <td>22.54</td>\n",
              "      <td>1396</td>\n",
              "      <td>88.73</td>\n",
              "      <td>5</td>\n",
              "    </tr>\n",
              "    <tr>\n",
              "      <th>11984</th>\n",
              "      <td>Maruti Celerio VXI</td>\n",
              "      <td>3.85</td>\n",
              "      <td>New Car (On-Road Price) : Rs.5.03-6.32 Lakh*</td>\n",
              "      <td>2016.0</td>\n",
              "      <td>Dealer</td>\n",
              "      <td>35,000</td>\n",
              "      <td>First Owner</td>\n",
              "      <td>Petrol</td>\n",
              "      <td>Manual</td>\n",
              "      <td>23.1</td>\n",
              "      <td>998</td>\n",
              "      <td>67.04</td>\n",
              "      <td>5</td>\n",
              "    </tr>\n",
              "    <tr>\n",
              "      <th>11992</th>\n",
              "      <td>Hyundai Creta 1.4 CRDi S</td>\n",
              "      <td>7.7</td>\n",
              "      <td>New Car (On-Road Price) : Rs.11.49-19.41 Lakh*</td>\n",
              "      <td>2016.0</td>\n",
              "      <td>Individual</td>\n",
              "      <td>1,21,054</td>\n",
              "      <td>First Owner</td>\n",
              "      <td>Diesel</td>\n",
              "      <td>Manual</td>\n",
              "      <td>21.38</td>\n",
              "      <td>1396</td>\n",
              "      <td>88.7</td>\n",
              "      <td>5</td>\n",
              "    </tr>\n",
              "    <tr>\n",
              "      <th>11998</th>\n",
              "      <td>Ford Freestyle Titanium Plus Petrol BSIV</td>\n",
              "      <td>7.25</td>\n",
              "      <td>New Car (On-Road Price) : Rs.6.93-9.13 Lakh*</td>\n",
              "      <td>2018.0</td>\n",
              "      <td>Individual</td>\n",
              "      <td>20,000</td>\n",
              "      <td>First Owner</td>\n",
              "      <td>Petrol</td>\n",
              "      <td>Manual</td>\n",
              "      <td>19.0</td>\n",
              "      <td>1194</td>\n",
              "      <td>94.68</td>\n",
              "      <td>5</td>\n",
              "    </tr>\n",
              "    <tr>\n",
              "      <th>11999</th>\n",
              "      <td>BMW X1 sDrive20d</td>\n",
              "      <td>11.5</td>\n",
              "      <td>New Car (On-Road Price) : Rs.49.26-50.87 Lakh*</td>\n",
              "      <td>2010.0</td>\n",
              "      <td>Dealer</td>\n",
              "      <td>1,06,271</td>\n",
              "      <td>First Owner</td>\n",
              "      <td>Diesel</td>\n",
              "      <td>Automatic</td>\n",
              "      <td>17.05</td>\n",
              "      <td>1995</td>\n",
              "      <td>184</td>\n",
              "      <td>5</td>\n",
              "    </tr>\n",
              "  </tbody>\n",
              "</table>\n",
              "<p>5392 rows × 13 columns</p>\n",
              "</div>"
            ],
            "text/plain": [
              "                                            full_name  ... seats\n",
              "1                              Hyundai Grand i10 Asta  ...     5\n",
              "4      Ford Ecosport 2015-2021 1.5 TDCi Titanium BSIV  ...     5\n",
              "5                            Maruti Wagon R VXI BS IV  ...     5\n",
              "6                              Hyundai i10 Sportz 1.2  ...     5\n",
              "7                                  Maruti Wagon R VXI  ...     5\n",
              "...                                               ...  ...   ...\n",
              "11983      Hyundai i20 2015-2017 Asta Option 1.4 CRDi  ...     5\n",
              "11984                              Maruti Celerio VXI  ...     5\n",
              "11992                        Hyundai Creta 1.4 CRDi S  ...     5\n",
              "11998        Ford Freestyle Titanium Plus Petrol BSIV  ...     5\n",
              "11999                                BMW X1 sDrive20d  ...     5\n",
              "\n",
              "[5392 rows x 13 columns]"
            ]
          },
          "metadata": {},
          "execution_count": 17
        }
      ]
    },
    {
      "cell_type": "code",
      "metadata": {
        "colab": {
          "base_uri": "https://localhost:8080/"
        },
        "id": "VRegzhTZzn9f",
        "outputId": "9ddbd17a-be7a-416f-92b7-3346d9b4142d"
      },
      "source": [
        "cd['seats']\n"
      ],
      "execution_count": 18,
      "outputs": [
        {
          "output_type": "execute_result",
          "data": {
            "text/plain": [
              "1        5\n",
              "4        5\n",
              "5        5\n",
              "6        5\n",
              "7        5\n",
              "        ..\n",
              "11983    5\n",
              "11984    5\n",
              "11992    5\n",
              "11998    5\n",
              "11999    5\n",
              "Name: seats, Length: 5392, dtype: object"
            ]
          },
          "metadata": {},
          "execution_count": 18
        }
      ]
    },
    {
      "cell_type": "markdown",
      "metadata": {
        "id": "EW1R9tsZe-li"
      },
      "source": [
        "## Dataset Distribution"
      ]
    },
    {
      "cell_type": "code",
      "metadata": {
        "colab": {
          "base_uri": "https://localhost:8080/"
        },
        "id": "D_NGlFUKgLAG",
        "outputId": "4418f572-1208-45c3-84ad-f2fe55896952"
      },
      "source": [
        "cd.columns"
      ],
      "execution_count": 19,
      "outputs": [
        {
          "output_type": "execute_result",
          "data": {
            "text/plain": [
              "Index(['full_name', 'selling_price(in Lakh*)', 'new-price', 'year',\n",
              "       'seller_type', 'km_driven', 'owner_type', 'fuel_type',\n",
              "       'transmission_type', 'mileage(kmpl)', 'engine(cc)', 'max_power(bhp)',\n",
              "       'seats'],\n",
              "      dtype='object')"
            ]
          },
          "metadata": {},
          "execution_count": 19
        }
      ]
    },
    {
      "cell_type": "code",
      "metadata": {
        "id": "EvRJOSH9dgt7"
      },
      "source": [
        ""
      ],
      "execution_count": 19,
      "outputs": []
    },
    {
      "cell_type": "code",
      "metadata": {
        "id": "G8X_rgBk5aSj"
      },
      "source": [
        "des=cd.groupby('fuel_type').count()\n"
      ],
      "execution_count": 20,
      "outputs": []
    },
    {
      "cell_type": "code",
      "metadata": {
        "colab": {
          "base_uri": "https://localhost:8080/",
          "height": 264
        },
        "id": "-r7wSg6ctaBi",
        "outputId": "9d1e15f4-c11f-411f-fcf5-05864fba7af5"
      },
      "source": [
        "fig1, ax1 = plt.subplots()\n",
        "ax1.pie(des['full_name'].values, labels=des.index, autopct='%1.1f%%',\n",
        "        shadow=True, startangle=90)\n",
        "ax1.axis('equal')  # Equal aspect ratio ensures that pie is drawn as a circle.\n",
        "plt.title('Fuel type')\n",
        "\n",
        "plt.show()"
      ],
      "execution_count": 21,
      "outputs": [
        {
          "output_type": "display_data",
          "data": {
            "image/png": "[encoded data removed]",
            "text/plain": [
              "<Figure size 432x288 with 1 Axes>"
            ]
          },
          "metadata": {}
        }
      ]
    },
    {
      "cell_type": "code",
      "metadata": {
        "id": "lgOe77Wce5h3"
      },
      "source": [
        "des=cd.groupby('year').count()"
      ],
      "execution_count": 22,
      "outputs": []
    },
    {
      "cell_type": "code",
      "metadata": {
        "colab": {
          "base_uri": "https://localhost:8080/",
          "height": 294
        },
        "id": "aMR88_BWgibO",
        "outputId": "bbfefa30-c5a6-4044-8ed7-17f62923c06d"
      },
      "source": [
        "fig, ax = plt.subplots(figsize=(15,4))\n",
        "  \n",
        "\n",
        "sns.barplot(x=des.index, y='fuel_type', data=des)\n",
        "plt.ylabel('no of car fron that year')\n",
        "plt.title('Car years')\n",
        "\n",
        "plt.show()"
      ],
      "execution_count": 23,
      "outputs": [
        {
          "output_type": "display_data",
          "data": {
            "image/png": "[encoded data removed]",
            "text/plain": [
              "<Figure size 1080x288 with 1 Axes>"
            ]
          },
          "metadata": {
            "needs_background": "light"
          }
        }
      ]
    },
    {
      "cell_type": "markdown",
      "metadata": {
        "id": "meVmAYZVwJei"
      },
      "source": [
        "Encoding columns"
      ]
    },
    {
      "cell_type": "code",
      "metadata": {
        "colab": {
          "base_uri": "https://localhost:8080/"
        },
        "id": "L1VPMlFnxWZh",
        "outputId": "efb25e70-a888-4332-a9d7-3e6a83a046f4"
      },
      "source": [
        "cd.fuel_type"
      ],
      "execution_count": 24,
      "outputs": [
        {
          "output_type": "execute_result",
          "data": {
            "text/plain": [
              "1        Petrol\n",
              "4        Diesel\n",
              "5        Petrol\n",
              "6        Petrol\n",
              "7        Petrol\n",
              "          ...  \n",
              "11983    Diesel\n",
              "11984    Petrol\n",
              "11992    Diesel\n",
              "11998    Petrol\n",
              "11999    Diesel\n",
              "Name: fuel_type, Length: 5392, dtype: object"
            ]
          },
          "metadata": {},
          "execution_count": 24
        }
      ]
    },
    {
      "cell_type": "code",
      "metadata": {
        "id": "mpY-6T_4klyw"
      },
      "source": [
        "cd.fuel_type.replace(to_replace={'Petrol','Diesel','CNG','Electric'},value={1,2,3,4},inplace=True)"
      ],
      "execution_count": 25,
      "outputs": []
    },
    {
      "cell_type": "code",
      "metadata": {
        "id": "-cWOwo1Ex2pJ"
      },
      "source": [
        "cd.seller_type.replace(to_replace={'Individual', 'Dealer', 'Trustmark Dealer'},value=[1,2,3],inplace=True)"
      ],
      "execution_count": 26,
      "outputs": []
    },
    {
      "cell_type": "code",
      "metadata": {
        "id": "UlNHviziy-5I"
      },
      "source": [
        "cd.transmission_type.replace(to_replace={'Manual', 'Automatic'},value=[1,2],inplace=True)\n"
      ],
      "execution_count": 27,
      "outputs": []
    },
    {
      "cell_type": "code",
      "metadata": {
        "id": "0BtV3esr2Z8T"
      },
      "source": [
        "cd['km_driven']=cd['km_driven'].str.strip('*')"
      ],
      "execution_count": 28,
      "outputs": []
    },
    {
      "cell_type": "code",
      "metadata": {
        "id": "PyXvXRuR3GFE"
      },
      "source": [
        "cd.owner_type.replace(to_replace={'First Owner', 'Third Owner', 'Second Owner'},value=[1,2,3],inplace=True)"
      ],
      "execution_count": 29,
      "outputs": []
    },
    {
      "cell_type": "code",
      "metadata": {
        "id": "FEf0GHhM3P0K"
      },
      "source": [
        " cd['new-price']=cd['new-price'].str.strip('New Car (On-Road Price) :s.' 'Lakh*')"
      ],
      "execution_count": 30,
      "outputs": []
    },
    {
      "cell_type": "code",
      "metadata": {
        "colab": {
          "base_uri": "https://localhost:8080/"
        },
        "id": "lVVH7-A045wW",
        "outputId": "28a27f29-c753-4652-c5be-599807023eb2"
      },
      "source": [
        "cd[cd=='0.0 km/hr']['new-price'].notnull()"
      ],
      "execution_count": 31,
      "outputs": [
        {
          "output_type": "execute_result",
          "data": {
            "text/plain": [
              "1        False\n",
              "4        False\n",
              "5        False\n",
              "6        False\n",
              "7        False\n",
              "         ...  \n",
              "11983    False\n",
              "11984    False\n",
              "11992    False\n",
              "11998    False\n",
              "11999    False\n",
              "Name: new-price, Length: 5392, dtype: bool"
            ]
          },
          "metadata": {},
          "execution_count": 31
        }
      ]
    },
    {
      "cell_type": "code",
      "metadata": {
        "colab": {
          "base_uri": "https://localhost:8080/",
          "height": 851
        },
        "id": "U5SSbq6zHPC8",
        "outputId": "1c055df8-2c6f-4316-a5eb-be5d6813df91"
      },
      "source": [
        "cd.sort_values(by=['mileage(kmpl)'],ascending=True)"
      ],
      "execution_count": 32,
      "outputs": [
        {
          "output_type": "execute_result",
          "data": {
            "text/html": [
              "<div>\n",
              "<style scoped>\n",
              "    .dataframe tbody tr th:only-of-type {\n",
              "        vertical-align: middle;\n",
              "    }\n",
              "\n",
              "    .dataframe tbody tr th {\n",
              "        vertical-align: top;\n",
              "    }\n",
              "\n",
              "    .dataframe thead th {\n",
              "        text-align: right;\n",
              "    }\n",
              "</style>\n",
              "<table border=\"1\" class=\"dataframe\">\n",
              "  <thead>\n",
              "    <tr style=\"text-align: right;\">\n",
              "      <th></th>\n",
              "      <th>full_name</th>\n",
              "      <th>selling_price(in Lakh*)</th>\n",
              "      <th>new-price</th>\n",
              "      <th>year</th>\n",
              "      <th>seller_type</th>\n",
              "      <th>km_driven</th>\n",
              "      <th>owner_type</th>\n",
              "      <th>fuel_type</th>\n",
              "      <th>transmission_type</th>\n",
              "      <th>mileage(kmpl)</th>\n",
              "      <th>engine(cc)</th>\n",
              "      <th>max_power(bhp)</th>\n",
              "      <th>seats</th>\n",
              "    </tr>\n",
              "  </thead>\n",
              "  <tbody>\n",
              "    <tr>\n",
              "      <th>471</th>\n",
              "      <td>Hyundai Santro LP - Euro II</td>\n",
              "      <td>55,000*</td>\n",
              "      <td>5.23-7.14</td>\n",
              "      <td>2002.0</td>\n",
              "      <td>2</td>\n",
              "      <td>80,000</td>\n",
              "      <td>1</td>\n",
              "      <td>3</td>\n",
              "      <td>2</td>\n",
              "      <td>0.0</td>\n",
              "      <td>999</td>\n",
              "      <td>null</td>\n",
              "      <td>5</td>\n",
              "    </tr>\n",
              "    <tr>\n",
              "      <th>3931</th>\n",
              "      <td>Toyota Fortuner 4X2 AT</td>\n",
              "      <td>16.45</td>\n",
              "      <td>35.53-37.40</td>\n",
              "      <td>2013.0</td>\n",
              "      <td>1</td>\n",
              "      <td>1,43,000</td>\n",
              "      <td>1</td>\n",
              "      <td>3</td>\n",
              "      <td>1</td>\n",
              "      <td>0.0</td>\n",
              "      <td>2694</td>\n",
              "      <td>163.05</td>\n",
              "      <td>7</td>\n",
              "    </tr>\n",
              "    <tr>\n",
              "      <th>9222</th>\n",
              "      <td>Hyundai Santro AT</td>\n",
              "      <td>1.05</td>\n",
              "      <td>5.23-7.07</td>\n",
              "      <td>2003.0</td>\n",
              "      <td>2</td>\n",
              "      <td>63,000</td>\n",
              "      <td>1</td>\n",
              "      <td>3</td>\n",
              "      <td>1</td>\n",
              "      <td>0.0</td>\n",
              "      <td>999</td>\n",
              "      <td>null</td>\n",
              "      <td>5</td>\n",
              "    </tr>\n",
              "    <tr>\n",
              "      <th>4392</th>\n",
              "      <td>Hyundai Santro GS</td>\n",
              "      <td>1.75</td>\n",
              "      <td>5.23-7.07</td>\n",
              "      <td>2006.0</td>\n",
              "      <td>2</td>\n",
              "      <td>90,000</td>\n",
              "      <td>1</td>\n",
              "      <td>3</td>\n",
              "      <td>2</td>\n",
              "      <td>0.0</td>\n",
              "      <td>999</td>\n",
              "      <td>null</td>\n",
              "      <td>5</td>\n",
              "    </tr>\n",
              "    <tr>\n",
              "      <th>8509</th>\n",
              "      <td>Jeep Compass 1.4 Sport</td>\n",
              "      <td>14</td>\n",
              "      <td>19.77-29.37</td>\n",
              "      <td>2019.0</td>\n",
              "      <td>2</td>\n",
              "      <td>10,000</td>\n",
              "      <td>1</td>\n",
              "      <td>3</td>\n",
              "      <td>2</td>\n",
              "      <td>0.0</td>\n",
              "      <td>1368</td>\n",
              "      <td>160.77</td>\n",
              "      <td>5</td>\n",
              "    </tr>\n",
              "    <tr>\n",
              "      <th>...</th>\n",
              "      <td>...</td>\n",
              "      <td>...</td>\n",
              "      <td>...</td>\n",
              "      <td>...</td>\n",
              "      <td>...</td>\n",
              "      <td>...</td>\n",
              "      <td>...</td>\n",
              "      <td>...</td>\n",
              "      <td>...</td>\n",
              "      <td>...</td>\n",
              "      <td>...</td>\n",
              "      <td>...</td>\n",
              "      <td>...</td>\n",
              "    </tr>\n",
              "    <tr>\n",
              "      <th>833</th>\n",
              "      <td>Jeep Wrangler 2016-2019 3.6 4X4</td>\n",
              "      <td>48.75</td>\n",
              "      <td>73.56-79.29</td>\n",
              "      <td>2017.0</td>\n",
              "      <td>1</td>\n",
              "      <td>40,000</td>\n",
              "      <td>1</td>\n",
              "      <td>3</td>\n",
              "      <td>1</td>\n",
              "      <td>9.5</td>\n",
              "      <td>3604</td>\n",
              "      <td>280</td>\n",
              "      <td>5</td>\n",
              "    </tr>\n",
              "    <tr>\n",
              "      <th>1539</th>\n",
              "      <td>Bentley Continental GT Speed Convertible BSIV</td>\n",
              "      <td>1.45</td>\n",
              "      <td>3.77Cr-4.48</td>\n",
              "      <td>2012.0</td>\n",
              "      <td>1</td>\n",
              "      <td>9,000</td>\n",
              "      <td>1</td>\n",
              "      <td>3</td>\n",
              "      <td>1</td>\n",
              "      <td>9.5</td>\n",
              "      <td>5998</td>\n",
              "      <td>626</td>\n",
              "      <td>4</td>\n",
              "    </tr>\n",
              "    <tr>\n",
              "      <th>1369</th>\n",
              "      <td>BMW 6 Series 640d Coupe</td>\n",
              "      <td>44.9</td>\n",
              "      <td>79.05-91.94</td>\n",
              "      <td>2015.0</td>\n",
              "      <td>1</td>\n",
              "      <td>25,000</td>\n",
              "      <td>1</td>\n",
              "      <td>2</td>\n",
              "      <td>1</td>\n",
              "      <td>9.52</td>\n",
              "      <td>2993</td>\n",
              "      <td>313</td>\n",
              "      <td>4</td>\n",
              "    </tr>\n",
              "    <tr>\n",
              "      <th>10466</th>\n",
              "      <td>BMW 6 Series 640d Coupe</td>\n",
              "      <td>40</td>\n",
              "      <td>78.02-90.10</td>\n",
              "      <td>2013.0</td>\n",
              "      <td>1</td>\n",
              "      <td>24,000</td>\n",
              "      <td>1</td>\n",
              "      <td>2</td>\n",
              "      <td>1</td>\n",
              "      <td>9.52</td>\n",
              "      <td>2993</td>\n",
              "      <td>313</td>\n",
              "      <td>4</td>\n",
              "    </tr>\n",
              "    <tr>\n",
              "      <th>4868</th>\n",
              "      <td>BMW 6 Series 640d Gran Coupe</td>\n",
              "      <td>41</td>\n",
              "      <td>82.09-94.80</td>\n",
              "      <td>2013.0</td>\n",
              "      <td>1</td>\n",
              "      <td>30,000</td>\n",
              "      <td>1</td>\n",
              "      <td>2</td>\n",
              "      <td>1</td>\n",
              "      <td>9.52</td>\n",
              "      <td>2993</td>\n",
              "      <td>313</td>\n",
              "      <td>4</td>\n",
              "    </tr>\n",
              "  </tbody>\n",
              "</table>\n",
              "<p>5392 rows × 13 columns</p>\n",
              "</div>"
            ],
            "text/plain": [
              "                                           full_name  ... seats\n",
              "471                      Hyundai Santro LP - Euro II  ...     5\n",
              "3931                          Toyota Fortuner 4X2 AT  ...     7\n",
              "9222                               Hyundai Santro AT  ...     5\n",
              "4392                               Hyundai Santro GS  ...     5\n",
              "8509                          Jeep Compass 1.4 Sport  ...     5\n",
              "...                                              ...  ...   ...\n",
              "833                  Jeep Wrangler 2016-2019 3.6 4X4  ...     5\n",
              "1539   Bentley Continental GT Speed Convertible BSIV  ...     4\n",
              "1369                         BMW 6 Series 640d Coupe  ...     4\n",
              "10466                        BMW 6 Series 640d Coupe  ...     4\n",
              "4868                    BMW 6 Series 640d Gran Coupe  ...     4\n",
              "\n",
              "[5392 rows x 13 columns]"
            ]
          },
          "metadata": {},
          "execution_count": 32
        }
      ]
    },
    {
      "cell_type": "code",
      "metadata": {
        "id": "ykruMqjywHyF"
      },
      "source": [
        "cd['mileage(kmpl)']=cd['mileage(kmpl)'].str.strip('km/')"
      ],
      "execution_count": 33,
      "outputs": []
    },
    {
      "cell_type": "code",
      "metadata": {
        "id": "HsMOObWGrSzy"
      },
      "source": [
        "cd['km_driven']=cd['km_driven'].str.replace(',','')"
      ],
      "execution_count": 34,
      "outputs": []
    },
    {
      "cell_type": "code",
      "metadata": {
        "id": "pjud0FRPHlTY"
      },
      "source": [
        "cd['selling_price(in Lakh*)']=cd['selling_price(in Lakh*)'].str.replace(',','')"
      ],
      "execution_count": 35,
      "outputs": []
    },
    {
      "cell_type": "code",
      "metadata": {
        "id": "24WCgZ_XH4lU"
      },
      "source": [
        "cd['selling_price(in Lakh*)']=cd['selling_price(in Lakh*)'].str.strip('*')"
      ],
      "execution_count": 36,
      "outputs": []
    },
    {
      "cell_type": "code",
      "metadata": {
        "id": "o0s9uRG39ul8"
      },
      "source": [
        "cd.replace(',','',inplace=True)"
      ],
      "execution_count": 37,
      "outputs": []
    },
    {
      "cell_type": "code",
      "metadata": {
        "id": "15-ad8H93I27"
      },
      "source": [
        "cd['new-price']=(cd['new-price'].str.split(expand=True,pat=\"-\")).drop(1,axis=1)"
      ],
      "execution_count": 38,
      "outputs": []
    },
    {
      "cell_type": "markdown",
      "metadata": {
        "id": "ASSHdml8A-n9"
      },
      "source": [
        "## Resetting index"
      ]
    },
    {
      "cell_type": "code",
      "metadata": {
        "id": "iWzJHPCuAQz3"
      },
      "source": [
        "cd.reset_index(inplace=True)"
      ],
      "execution_count": 39,
      "outputs": []
    },
    {
      "cell_type": "code",
      "metadata": {
        "id": "S2Qfmv6HAZLL",
        "colab": {
          "base_uri": "https://localhost:8080/",
          "height": 304
        },
        "outputId": "8c83f1dc-7a75-43f6-e36f-da9e00f4a379"
      },
      "source": [
        "cd.drop(['index','level_0'],axis=1,inplace=True)"
      ],
      "execution_count": 40,
      "outputs": [
        {
          "output_type": "error",
          "ename": "KeyError",
          "evalue": "ignored",
          "traceback": [
            "\u001b[0;31m---------------------------------------------------------------------------\u001b[0m",
            "\u001b[0;31mKeyError\u001b[0m                                  Traceback (most recent call last)",
            "\u001b[0;32m<ipython-input-40-1ce8966dea6b>\u001b[0m in \u001b[0;36m<module>\u001b[0;34m()\u001b[0m\n\u001b[0;32m----> 1\u001b[0;31m \u001b[0mcd\u001b[0m\u001b[0;34m.\u001b[0m\u001b[0mdrop\u001b[0m\u001b[0;34m(\u001b[0m\u001b[0;34m[\u001b[0m\u001b[0;34m'index'\u001b[0m\u001b[0;34m,\u001b[0m\u001b[0;34m'level_0'\u001b[0m\u001b[0;34m]\u001b[0m\u001b[0;34m,\u001b[0m\u001b[0maxis\u001b[0m\u001b[0;34m=\u001b[0m\u001b[0;36m1\u001b[0m\u001b[0;34m,\u001b[0m\u001b[0minplace\u001b[0m\u001b[0;34m=\u001b[0m\u001b[0;32mTrue\u001b[0m\u001b[0;34m)\u001b[0m\u001b[0;34m\u001b[0m\u001b[0;34m\u001b[0m\u001b[0m\n\u001b[0m",
            "\u001b[0;32m/usr/local/lib/python3.7/dist-packages/pandas/core/frame.py\u001b[0m in \u001b[0;36mdrop\u001b[0;34m(self, labels, axis, index, columns, level, inplace, errors)\u001b[0m\n\u001b[1;32m   4172\u001b[0m             \u001b[0mlevel\u001b[0m\u001b[0;34m=\u001b[0m\u001b[0mlevel\u001b[0m\u001b[0;34m,\u001b[0m\u001b[0;34m\u001b[0m\u001b[0;34m\u001b[0m\u001b[0m\n\u001b[1;32m   4173\u001b[0m             \u001b[0minplace\u001b[0m\u001b[0;34m=\u001b[0m\u001b[0minplace\u001b[0m\u001b[0;34m,\u001b[0m\u001b[0;34m\u001b[0m\u001b[0;34m\u001b[0m\u001b[0m\n\u001b[0;32m-> 4174\u001b[0;31m             \u001b[0merrors\u001b[0m\u001b[0;34m=\u001b[0m\u001b[0merrors\u001b[0m\u001b[0;34m,\u001b[0m\u001b[0;34m\u001b[0m\u001b[0;34m\u001b[0m\u001b[0m\n\u001b[0m\u001b[1;32m   4175\u001b[0m         )\n\u001b[1;32m   4176\u001b[0m \u001b[0;34m\u001b[0m\u001b[0m\n",
            "\u001b[0;32m/usr/local/lib/python3.7/dist-packages/pandas/core/generic.py\u001b[0m in \u001b[0;36mdrop\u001b[0;34m(self, labels, axis, index, columns, level, inplace, errors)\u001b[0m\n\u001b[1;32m   3887\u001b[0m         \u001b[0;32mfor\u001b[0m \u001b[0maxis\u001b[0m\u001b[0;34m,\u001b[0m \u001b[0mlabels\u001b[0m \u001b[0;32min\u001b[0m \u001b[0maxes\u001b[0m\u001b[0;34m.\u001b[0m\u001b[0mitems\u001b[0m\u001b[0;34m(\u001b[0m\u001b[0;34m)\u001b[0m\u001b[0;34m:\u001b[0m\u001b[0;34m\u001b[0m\u001b[0;34m\u001b[0m\u001b[0m\n\u001b[1;32m   3888\u001b[0m             \u001b[0;32mif\u001b[0m \u001b[0mlabels\u001b[0m \u001b[0;32mis\u001b[0m \u001b[0;32mnot\u001b[0m \u001b[0;32mNone\u001b[0m\u001b[0;34m:\u001b[0m\u001b[0;34m\u001b[0m\u001b[0;34m\u001b[0m\u001b[0m\n\u001b[0;32m-> 3889\u001b[0;31m                 \u001b[0mobj\u001b[0m \u001b[0;34m=\u001b[0m \u001b[0mobj\u001b[0m\u001b[0;34m.\u001b[0m\u001b[0m_drop_axis\u001b[0m\u001b[0;34m(\u001b[0m\u001b[0mlabels\u001b[0m\u001b[0;34m,\u001b[0m \u001b[0maxis\u001b[0m\u001b[0;34m,\u001b[0m \u001b[0mlevel\u001b[0m\u001b[0;34m=\u001b[0m\u001b[0mlevel\u001b[0m\u001b[0;34m,\u001b[0m \u001b[0merrors\u001b[0m\u001b[0;34m=\u001b[0m\u001b[0merrors\u001b[0m\u001b[0;34m)\u001b[0m\u001b[0;34m\u001b[0m\u001b[0;34m\u001b[0m\u001b[0m\n\u001b[0m\u001b[1;32m   3890\u001b[0m \u001b[0;34m\u001b[0m\u001b[0m\n\u001b[1;32m   3891\u001b[0m         \u001b[0;32mif\u001b[0m \u001b[0minplace\u001b[0m\u001b[0;34m:\u001b[0m\u001b[0;34m\u001b[0m\u001b[0;34m\u001b[0m\u001b[0m\n",
            "\u001b[0;32m/usr/local/lib/python3.7/dist-packages/pandas/core/generic.py\u001b[0m in \u001b[0;36m_drop_axis\u001b[0;34m(self, labels, axis, level, errors)\u001b[0m\n\u001b[1;32m   3921\u001b[0m                 \u001b[0mnew_axis\u001b[0m \u001b[0;34m=\u001b[0m \u001b[0maxis\u001b[0m\u001b[0;34m.\u001b[0m\u001b[0mdrop\u001b[0m\u001b[0;34m(\u001b[0m\u001b[0mlabels\u001b[0m\u001b[0;34m,\u001b[0m \u001b[0mlevel\u001b[0m\u001b[0;34m=\u001b[0m\u001b[0mlevel\u001b[0m\u001b[0;34m,\u001b[0m \u001b[0merrors\u001b[0m\u001b[0;34m=\u001b[0m\u001b[0merrors\u001b[0m\u001b[0;34m)\u001b[0m\u001b[0;34m\u001b[0m\u001b[0;34m\u001b[0m\u001b[0m\n\u001b[1;32m   3922\u001b[0m             \u001b[0;32melse\u001b[0m\u001b[0;34m:\u001b[0m\u001b[0;34m\u001b[0m\u001b[0;34m\u001b[0m\u001b[0m\n\u001b[0;32m-> 3923\u001b[0;31m                 \u001b[0mnew_axis\u001b[0m \u001b[0;34m=\u001b[0m \u001b[0maxis\u001b[0m\u001b[0;34m.\u001b[0m\u001b[0mdrop\u001b[0m\u001b[0;34m(\u001b[0m\u001b[0mlabels\u001b[0m\u001b[0;34m,\u001b[0m \u001b[0merrors\u001b[0m\u001b[0;34m=\u001b[0m\u001b[0merrors\u001b[0m\u001b[0;34m)\u001b[0m\u001b[0;34m\u001b[0m\u001b[0;34m\u001b[0m\u001b[0m\n\u001b[0m\u001b[1;32m   3924\u001b[0m             \u001b[0mresult\u001b[0m \u001b[0;34m=\u001b[0m \u001b[0mself\u001b[0m\u001b[0;34m.\u001b[0m\u001b[0mreindex\u001b[0m\u001b[0;34m(\u001b[0m\u001b[0;34m**\u001b[0m\u001b[0;34m{\u001b[0m\u001b[0maxis_name\u001b[0m\u001b[0;34m:\u001b[0m \u001b[0mnew_axis\u001b[0m\u001b[0;34m}\u001b[0m\u001b[0;34m)\u001b[0m\u001b[0;34m\u001b[0m\u001b[0;34m\u001b[0m\u001b[0m\n\u001b[1;32m   3925\u001b[0m \u001b[0;34m\u001b[0m\u001b[0m\n",
            "\u001b[0;32m/usr/local/lib/python3.7/dist-packages/pandas/core/indexes/base.py\u001b[0m in \u001b[0;36mdrop\u001b[0;34m(self, labels, errors)\u001b[0m\n\u001b[1;32m   5285\u001b[0m         \u001b[0;32mif\u001b[0m \u001b[0mmask\u001b[0m\u001b[0;34m.\u001b[0m\u001b[0many\u001b[0m\u001b[0;34m(\u001b[0m\u001b[0;34m)\u001b[0m\u001b[0;34m:\u001b[0m\u001b[0;34m\u001b[0m\u001b[0;34m\u001b[0m\u001b[0m\n\u001b[1;32m   5286\u001b[0m             \u001b[0;32mif\u001b[0m \u001b[0merrors\u001b[0m \u001b[0;34m!=\u001b[0m \u001b[0;34m\"ignore\"\u001b[0m\u001b[0;34m:\u001b[0m\u001b[0;34m\u001b[0m\u001b[0;34m\u001b[0m\u001b[0m\n\u001b[0;32m-> 5287\u001b[0;31m                 \u001b[0;32mraise\u001b[0m \u001b[0mKeyError\u001b[0m\u001b[0;34m(\u001b[0m\u001b[0;34mf\"{labels[mask]} not found in axis\"\u001b[0m\u001b[0;34m)\u001b[0m\u001b[0;34m\u001b[0m\u001b[0;34m\u001b[0m\u001b[0m\n\u001b[0m\u001b[1;32m   5288\u001b[0m             \u001b[0mindexer\u001b[0m \u001b[0;34m=\u001b[0m \u001b[0mindexer\u001b[0m\u001b[0;34m[\u001b[0m\u001b[0;34m~\u001b[0m\u001b[0mmask\u001b[0m\u001b[0;34m]\u001b[0m\u001b[0;34m\u001b[0m\u001b[0;34m\u001b[0m\u001b[0m\n\u001b[1;32m   5289\u001b[0m         \u001b[0;32mreturn\u001b[0m \u001b[0mself\u001b[0m\u001b[0;34m.\u001b[0m\u001b[0mdelete\u001b[0m\u001b[0;34m(\u001b[0m\u001b[0mindexer\u001b[0m\u001b[0;34m)\u001b[0m\u001b[0;34m\u001b[0m\u001b[0;34m\u001b[0m\u001b[0m\n",
            "\u001b[0;31mKeyError\u001b[0m: \"['level_0'] not found in axis\""
          ]
        }
      ]
    },
    {
      "cell_type": "code",
      "metadata": {
        "id": "QceOUi1fBSR_"
      },
      "source": [
        "cd.dtypes"
      ],
      "execution_count": null,
      "outputs": []
    },
    {
      "cell_type": "code",
      "metadata": {
        "id": "0IeofjrxBVIO",
        "colab": {
          "base_uri": "https://localhost:8080/",
          "height": 304
        },
        "outputId": "739351c5-14c1-4057-b408-175b1b695edc"
      },
      "source": [
        "cd['mileage(kmpl)']=cd['mileage(kmpl)'].astype(float)"
      ],
      "execution_count": 42,
      "outputs": [
        {
          "output_type": "error",
          "ename": "ValueError",
          "evalue": "ignored",
          "traceback": [
            "\u001b[0;31m---------------------------------------------------------------------------\u001b[0m",
            "\u001b[0;31mValueError\u001b[0m                                Traceback (most recent call last)",
            "\u001b[0;32m<ipython-input-42-89f361c18492>\u001b[0m in \u001b[0;36m<module>\u001b[0;34m()\u001b[0m\n\u001b[0;32m----> 1\u001b[0;31m \u001b[0mcd\u001b[0m\u001b[0;34m[\u001b[0m\u001b[0;34m'mileage(kmpl)'\u001b[0m\u001b[0;34m]\u001b[0m\u001b[0;34m=\u001b[0m\u001b[0mcd\u001b[0m\u001b[0;34m[\u001b[0m\u001b[0;34m'mileage(kmpl)'\u001b[0m\u001b[0;34m]\u001b[0m\u001b[0;34m.\u001b[0m\u001b[0mastype\u001b[0m\u001b[0;34m(\u001b[0m\u001b[0mfloat\u001b[0m\u001b[0;34m)\u001b[0m\u001b[0;34m\u001b[0m\u001b[0;34m\u001b[0m\u001b[0m\n\u001b[0m",
            "\u001b[0;32m/usr/local/lib/python3.7/dist-packages/pandas/core/generic.py\u001b[0m in \u001b[0;36mastype\u001b[0;34m(self, dtype, copy, errors)\u001b[0m\n\u001b[1;32m   5546\u001b[0m         \u001b[0;32melse\u001b[0m\u001b[0;34m:\u001b[0m\u001b[0;34m\u001b[0m\u001b[0;34m\u001b[0m\u001b[0m\n\u001b[1;32m   5547\u001b[0m             \u001b[0;31m# else, only a single dtype is given\u001b[0m\u001b[0;34m\u001b[0m\u001b[0;34m\u001b[0m\u001b[0;34m\u001b[0m\u001b[0m\n\u001b[0;32m-> 5548\u001b[0;31m             \u001b[0mnew_data\u001b[0m \u001b[0;34m=\u001b[0m \u001b[0mself\u001b[0m\u001b[0;34m.\u001b[0m\u001b[0m_mgr\u001b[0m\u001b[0;34m.\u001b[0m\u001b[0mastype\u001b[0m\u001b[0;34m(\u001b[0m\u001b[0mdtype\u001b[0m\u001b[0;34m=\u001b[0m\u001b[0mdtype\u001b[0m\u001b[0;34m,\u001b[0m \u001b[0mcopy\u001b[0m\u001b[0;34m=\u001b[0m\u001b[0mcopy\u001b[0m\u001b[0;34m,\u001b[0m \u001b[0merrors\u001b[0m\u001b[0;34m=\u001b[0m\u001b[0merrors\u001b[0m\u001b[0;34m,\u001b[0m\u001b[0;34m)\u001b[0m\u001b[0;34m\u001b[0m\u001b[0;34m\u001b[0m\u001b[0m\n\u001b[0m\u001b[1;32m   5549\u001b[0m             \u001b[0;32mreturn\u001b[0m \u001b[0mself\u001b[0m\u001b[0;34m.\u001b[0m\u001b[0m_constructor\u001b[0m\u001b[0;34m(\u001b[0m\u001b[0mnew_data\u001b[0m\u001b[0;34m)\u001b[0m\u001b[0;34m.\u001b[0m\u001b[0m__finalize__\u001b[0m\u001b[0;34m(\u001b[0m\u001b[0mself\u001b[0m\u001b[0;34m,\u001b[0m \u001b[0mmethod\u001b[0m\u001b[0;34m=\u001b[0m\u001b[0;34m\"astype\"\u001b[0m\u001b[0;34m)\u001b[0m\u001b[0;34m\u001b[0m\u001b[0;34m\u001b[0m\u001b[0m\n\u001b[1;32m   5550\u001b[0m \u001b[0;34m\u001b[0m\u001b[0m\n",
            "\u001b[0;32m/usr/local/lib/python3.7/dist-packages/pandas/core/internals/managers.py\u001b[0m in \u001b[0;36mastype\u001b[0;34m(self, dtype, copy, errors)\u001b[0m\n\u001b[1;32m    602\u001b[0m         \u001b[0mself\u001b[0m\u001b[0;34m,\u001b[0m \u001b[0mdtype\u001b[0m\u001b[0;34m,\u001b[0m \u001b[0mcopy\u001b[0m\u001b[0;34m:\u001b[0m \u001b[0mbool\u001b[0m \u001b[0;34m=\u001b[0m \u001b[0;32mFalse\u001b[0m\u001b[0;34m,\u001b[0m \u001b[0merrors\u001b[0m\u001b[0;34m:\u001b[0m \u001b[0mstr\u001b[0m \u001b[0;34m=\u001b[0m \u001b[0;34m\"raise\"\u001b[0m\u001b[0;34m\u001b[0m\u001b[0;34m\u001b[0m\u001b[0m\n\u001b[1;32m    603\u001b[0m     ) -> \"BlockManager\":\n\u001b[0;32m--> 604\u001b[0;31m         \u001b[0;32mreturn\u001b[0m \u001b[0mself\u001b[0m\u001b[0;34m.\u001b[0m\u001b[0mapply\u001b[0m\u001b[0;34m(\u001b[0m\u001b[0;34m\"astype\"\u001b[0m\u001b[0;34m,\u001b[0m \u001b[0mdtype\u001b[0m\u001b[0;34m=\u001b[0m\u001b[0mdtype\u001b[0m\u001b[0;34m,\u001b[0m \u001b[0mcopy\u001b[0m\u001b[0;34m=\u001b[0m\u001b[0mcopy\u001b[0m\u001b[0;34m,\u001b[0m \u001b[0merrors\u001b[0m\u001b[0;34m=\u001b[0m\u001b[0merrors\u001b[0m\u001b[0;34m)\u001b[0m\u001b[0;34m\u001b[0m\u001b[0;34m\u001b[0m\u001b[0m\n\u001b[0m\u001b[1;32m    605\u001b[0m \u001b[0;34m\u001b[0m\u001b[0m\n\u001b[1;32m    606\u001b[0m     def convert(\n",
            "\u001b[0;32m/usr/local/lib/python3.7/dist-packages/pandas/core/internals/managers.py\u001b[0m in \u001b[0;36mapply\u001b[0;34m(self, f, align_keys, **kwargs)\u001b[0m\n\u001b[1;32m    407\u001b[0m                 \u001b[0mapplied\u001b[0m \u001b[0;34m=\u001b[0m \u001b[0mb\u001b[0m\u001b[0;34m.\u001b[0m\u001b[0mapply\u001b[0m\u001b[0;34m(\u001b[0m\u001b[0mf\u001b[0m\u001b[0;34m,\u001b[0m \u001b[0;34m**\u001b[0m\u001b[0mkwargs\u001b[0m\u001b[0;34m)\u001b[0m\u001b[0;34m\u001b[0m\u001b[0;34m\u001b[0m\u001b[0m\n\u001b[1;32m    408\u001b[0m             \u001b[0;32melse\u001b[0m\u001b[0;34m:\u001b[0m\u001b[0;34m\u001b[0m\u001b[0;34m\u001b[0m\u001b[0m\n\u001b[0;32m--> 409\u001b[0;31m                 \u001b[0mapplied\u001b[0m \u001b[0;34m=\u001b[0m \u001b[0mgetattr\u001b[0m\u001b[0;34m(\u001b[0m\u001b[0mb\u001b[0m\u001b[0;34m,\u001b[0m \u001b[0mf\u001b[0m\u001b[0;34m)\u001b[0m\u001b[0;34m(\u001b[0m\u001b[0;34m**\u001b[0m\u001b[0mkwargs\u001b[0m\u001b[0;34m)\u001b[0m\u001b[0;34m\u001b[0m\u001b[0;34m\u001b[0m\u001b[0m\n\u001b[0m\u001b[1;32m    410\u001b[0m             \u001b[0mresult_blocks\u001b[0m \u001b[0;34m=\u001b[0m \u001b[0m_extend_blocks\u001b[0m\u001b[0;34m(\u001b[0m\u001b[0mapplied\u001b[0m\u001b[0;34m,\u001b[0m \u001b[0mresult_blocks\u001b[0m\u001b[0;34m)\u001b[0m\u001b[0;34m\u001b[0m\u001b[0;34m\u001b[0m\u001b[0m\n\u001b[1;32m    411\u001b[0m \u001b[0;34m\u001b[0m\u001b[0m\n",
            "\u001b[0;32m/usr/local/lib/python3.7/dist-packages/pandas/core/internals/blocks.py\u001b[0m in \u001b[0;36mastype\u001b[0;34m(self, dtype, copy, errors)\u001b[0m\n\u001b[1;32m    593\u001b[0m             \u001b[0mvals1d\u001b[0m \u001b[0;34m=\u001b[0m \u001b[0mvalues\u001b[0m\u001b[0;34m.\u001b[0m\u001b[0mravel\u001b[0m\u001b[0;34m(\u001b[0m\u001b[0;34m)\u001b[0m\u001b[0;34m\u001b[0m\u001b[0;34m\u001b[0m\u001b[0m\n\u001b[1;32m    594\u001b[0m             \u001b[0;32mtry\u001b[0m\u001b[0;34m:\u001b[0m\u001b[0;34m\u001b[0m\u001b[0;34m\u001b[0m\u001b[0m\n\u001b[0;32m--> 595\u001b[0;31m                 \u001b[0mvalues\u001b[0m \u001b[0;34m=\u001b[0m \u001b[0mastype_nansafe\u001b[0m\u001b[0;34m(\u001b[0m\u001b[0mvals1d\u001b[0m\u001b[0;34m,\u001b[0m \u001b[0mdtype\u001b[0m\u001b[0;34m,\u001b[0m \u001b[0mcopy\u001b[0m\u001b[0;34m=\u001b[0m\u001b[0;32mTrue\u001b[0m\u001b[0;34m)\u001b[0m\u001b[0;34m\u001b[0m\u001b[0;34m\u001b[0m\u001b[0m\n\u001b[0m\u001b[1;32m    596\u001b[0m             \u001b[0;32mexcept\u001b[0m \u001b[0;34m(\u001b[0m\u001b[0mValueError\u001b[0m\u001b[0;34m,\u001b[0m \u001b[0mTypeError\u001b[0m\u001b[0;34m)\u001b[0m\u001b[0;34m:\u001b[0m\u001b[0;34m\u001b[0m\u001b[0;34m\u001b[0m\u001b[0m\n\u001b[1;32m    597\u001b[0m                 \u001b[0;31m# e.g. astype_nansafe can fail on object-dtype of strings\u001b[0m\u001b[0;34m\u001b[0m\u001b[0;34m\u001b[0m\u001b[0;34m\u001b[0m\u001b[0m\n",
            "\u001b[0;32m/usr/local/lib/python3.7/dist-packages/pandas/core/dtypes/cast.py\u001b[0m in \u001b[0;36mastype_nansafe\u001b[0;34m(arr, dtype, copy, skipna)\u001b[0m\n\u001b[1;32m    995\u001b[0m     \u001b[0;32mif\u001b[0m \u001b[0mcopy\u001b[0m \u001b[0;32mor\u001b[0m \u001b[0mis_object_dtype\u001b[0m\u001b[0;34m(\u001b[0m\u001b[0marr\u001b[0m\u001b[0;34m)\u001b[0m \u001b[0;32mor\u001b[0m \u001b[0mis_object_dtype\u001b[0m\u001b[0;34m(\u001b[0m\u001b[0mdtype\u001b[0m\u001b[0;34m)\u001b[0m\u001b[0;34m:\u001b[0m\u001b[0;34m\u001b[0m\u001b[0;34m\u001b[0m\u001b[0m\n\u001b[1;32m    996\u001b[0m         \u001b[0;31m# Explicit copy, or required since NumPy can't view from / to object.\u001b[0m\u001b[0;34m\u001b[0m\u001b[0;34m\u001b[0m\u001b[0;34m\u001b[0m\u001b[0m\n\u001b[0;32m--> 997\u001b[0;31m         \u001b[0;32mreturn\u001b[0m \u001b[0marr\u001b[0m\u001b[0;34m.\u001b[0m\u001b[0mastype\u001b[0m\u001b[0;34m(\u001b[0m\u001b[0mdtype\u001b[0m\u001b[0;34m,\u001b[0m \u001b[0mcopy\u001b[0m\u001b[0;34m=\u001b[0m\u001b[0;32mTrue\u001b[0m\u001b[0;34m)\u001b[0m\u001b[0;34m\u001b[0m\u001b[0;34m\u001b[0m\u001b[0m\n\u001b[0m\u001b[1;32m    998\u001b[0m \u001b[0;34m\u001b[0m\u001b[0m\n\u001b[1;32m    999\u001b[0m     \u001b[0;32mreturn\u001b[0m \u001b[0marr\u001b[0m\u001b[0;34m.\u001b[0m\u001b[0mview\u001b[0m\u001b[0;34m(\u001b[0m\u001b[0mdtype\u001b[0m\u001b[0;34m)\u001b[0m\u001b[0;34m\u001b[0m\u001b[0;34m\u001b[0m\u001b[0m\n",
            "\u001b[0;31mValueError\u001b[0m: could not convert string to float: '0.0 km/hr'"
          ]
        }
      ]
    },
    {
      "cell_type": "code",
      "metadata": {
        "id": "sK86E7uvBkXX"
      },
      "source": [
        "cd.replace(to_replace=\" \",value=0.0,inplace=True)"
      ],
      "execution_count": 43,
      "outputs": []
    },
    {
      "cell_type": "code",
      "metadata": {
        "id": "4VjNGC-GkwRz"
      },
      "source": [
        "cd.replace(to_replace=\"null\",value=0.0,inplace=True)"
      ],
      "execution_count": 59,
      "outputs": []
    },
    {
      "cell_type": "markdown",
      "metadata": {
        "id": "BQl7yvnXkyJW"
      },
      "source": [
        "## Changing Crore values in lakh"
      ]
    },
    {
      "cell_type": "code",
      "metadata": {
        "id": "FLrJvqgK_37W"
      },
      "source": [
        "crore=cd.loc[cd['new-price'].str.contains(\"Cr\", case=False)]['new-price']"
      ],
      "execution_count": 44,
      "outputs": []
    },
    {
      "cell_type": "code",
      "metadata": {
        "id": "3WlQq5Pz_s9x"
      },
      "source": [
        "crore=crore.str.strip('Cr')"
      ],
      "execution_count": 45,
      "outputs": []
    },
    {
      "cell_type": "code",
      "metadata": {
        "id": "BNoN4kiwii-F"
      },
      "source": [
        "crore=crore.astype('float').iloc[:]*100\n"
      ],
      "execution_count": 46,
      "outputs": []
    },
    {
      "cell_type": "code",
      "metadata": {
        "id": "sQH21oPfk8I7"
      },
      "source": [
        "index=cd[cd['new-price'].str.contains(\"Cr\", case=False)]['new-price'].index"
      ],
      "execution_count": 47,
      "outputs": []
    },
    {
      "cell_type": "code",
      "metadata": {
        "colab": {
          "base_uri": "https://localhost:8080/"
        },
        "id": "XjJBbfpFFEA7",
        "outputId": "cc4ed90e-3883-4bb0-cf19-04d4bb790ee6"
      },
      "source": [
        "index"
      ],
      "execution_count": 48,
      "outputs": [
        {
          "output_type": "execute_result",
          "data": {
            "text/plain": [
              "Int64Index([ 671,  676,  787,  810,  863, 1238, 1266, 1299, 1842, 2023, 2137,\n",
              "            2180, 2257, 2358, 2396, 2446, 2805, 3348, 3512, 3594, 4818],\n",
              "           dtype='int64')"
            ]
          },
          "metadata": {},
          "execution_count": 48
        }
      ]
    },
    {
      "cell_type": "code",
      "metadata": {
        "id": "tZXlHXX3nHFf"
      },
      "source": [
        "cd.loc[index,'new-price']=crore"
      ],
      "execution_count": 49,
      "outputs": []
    },
    {
      "cell_type": "code",
      "metadata": {
        "colab": {
          "base_uri": "https://localhost:8080/"
        },
        "id": "u0N7lcT7otni",
        "outputId": "526eaff9-ec1b-4eb2-95e2-1dbc45b1ae85"
      },
      "source": [
        "cd.loc[index,'new-price']"
      ],
      "execution_count": 50,
      "outputs": [
        {
          "output_type": "execute_result",
          "data": {
            "text/plain": [
              "671     161\n",
              "676     164\n",
              "787     377\n",
              "810     137\n",
              "863     167\n",
              "1238    169\n",
              "1266    171\n",
              "1299    169\n",
              "1842    169\n",
              "2023    129\n",
              "2137    169\n",
              "2180    235\n",
              "2257    169\n",
              "2358    501\n",
              "2396    172\n",
              "2446    168\n",
              "2805    168\n",
              "3348    175\n",
              "3512    168\n",
              "3594    166\n",
              "4818    217\n",
              "Name: new-price, dtype: object"
            ]
          },
          "metadata": {},
          "execution_count": 50
        }
      ]
    },
    {
      "cell_type": "code",
      "metadata": {
        "id": "g2fhC_kpAqGF"
      },
      "source": [
        "cd['mileage(kmpl)']=cd['mileage(kmpl)'].str.strip('km/hr')"
      ],
      "execution_count": 51,
      "outputs": []
    },
    {
      "cell_type": "markdown",
      "metadata": {
        "id": "2-unDAsd7i7U"
      },
      "source": [
        "## Spllitting Data"
      ]
    },
    {
      "cell_type": "code",
      "metadata": {
        "id": "_wIz4BoP6g3J"
      },
      "source": [
        "X=cd.drop(['full_name','selling_price(in Lakh*)'],axis=1)\n",
        "y=cd['selling_price(in Lakh*)']"
      ],
      "execution_count": 60,
      "outputs": []
    },
    {
      "cell_type": "code",
      "metadata": {
        "id": "iVPmFLec6gVv"
      },
      "source": [
        "X_train, X_test, y_train, y_test = train_test_split(X, y, random_state=2,test_size=0.1)"
      ],
      "execution_count": 61,
      "outputs": []
    },
    {
      "cell_type": "code",
      "metadata": {
        "id": "ZKZMqf-1FZ2d"
      },
      "source": [
        "cd.replace(to_replace=\"null\",value=0.0,inplace=True)"
      ],
      "execution_count": 62,
      "outputs": []
    },
    {
      "cell_type": "markdown",
      "metadata": {
        "id": "oMqb6fa19HCK"
      },
      "source": [
        "# Model training"
      ]
    },
    {
      "cell_type": "markdown",
      "metadata": {
        "id": "VxbqROiY2R2A"
      },
      "source": [
        "# linear regression"
      ]
    },
    {
      "cell_type": "code",
      "metadata": {
        "id": "tb6mNBi_6fSw"
      },
      "source": [
        "linear = LinearRegression()\n",
        "\n"
      ],
      "execution_count": 63,
      "outputs": []
    },
    {
      "cell_type": "code",
      "metadata": {
        "colab": {
          "base_uri": "https://localhost:8080/"
        },
        "id": "RRwyxUiu2y9b",
        "outputId": "9c689bf4-1b47-48f8-b6dc-f9d3cefb50f7"
      },
      "source": [
        "linear.fit(X_train,y_train)"
      ],
      "execution_count": 64,
      "outputs": [
        {
          "output_type": "execute_result",
          "data": {
            "text/plain": [
              "LinearRegression(copy_X=True, fit_intercept=True, n_jobs=None, normalize=False)"
            ]
          },
          "metadata": {},
          "execution_count": 64
        }
      ]
    },
    {
      "cell_type": "markdown",
      "metadata": {
        "id": "jCvUPZh9IuLj"
      },
      "source": [
        "### model evaluaion"
      ]
    },
    {
      "cell_type": "code",
      "metadata": {
        "id": "fFEW0GF0IrYS"
      },
      "source": [
        "data_prediction=linear.predict(X_train)"
      ],
      "execution_count": 65,
      "outputs": []
    },
    {
      "cell_type": "markdown",
      "metadata": {
        "id": "x-v80JY4L12a"
      },
      "source": [
        "# R2 score"
      ]
    },
    {
      "cell_type": "code",
      "metadata": {
        "id": "CR3ulHG-Lu_i"
      },
      "source": [
        "from sklearn import metrics\n",
        "\n"
      ],
      "execution_count": 66,
      "outputs": []
    },
    {
      "cell_type": "code",
      "metadata": {
        "colab": {
          "base_uri": "https://localhost:8080/"
        },
        "id": "YxEDxxN2MS6a",
        "outputId": "cca2e648-3230-462e-92d1-d9cc8472ed35"
      },
      "source": [
        "error_score=metrics.r2_score(y_train,data_prediction)\n",
        "print(\"R squared Error\",error_score)"
      ],
      "execution_count": 67,
      "outputs": [
        {
          "output_type": "stream",
          "name": "stdout",
          "text": [
            "R squared Error 0.08219266504253653\n"
          ]
        }
      ]
    },
    {
      "cell_type": "markdown",
      "metadata": {
        "id": "w328s3gNPE2g"
      },
      "source": [
        "Visualization"
      ]
    },
    {
      "cell_type": "code",
      "metadata": {
        "colab": {
          "base_uri": "https://localhost:8080/",
          "height": 283
        },
        "id": "_q0AupFxOCmE",
        "outputId": "6fe8aacc-9f8b-40db-823d-13fc49061a88"
      },
      "source": [
        "plt.scatter(y_train,data_prediction)\n",
        "plt.yticks([0,20000,40000,60000,80000])\n",
        "plt.xlabel('Actual Price')\n",
        "plt.ylabel('Prediction')\n",
        "plt.show()"
      ],
      "execution_count": 68,
      "outputs": [
        {
          "output_type": "display_data",
          "data": {
            "image/png": "[encoded data removed]",
            "text/plain": [
              "<Figure size 432x288 with 1 Axes>"
            ]
          },
          "metadata": {
            "needs_background": "light"
          }
        }
      ]
    },
    {
      "cell_type": "code",
      "metadata": {
        "id": "pwEXQArlQl3e"
      },
      "source": [
        "test_prediction =linear.predict(X_test)"
      ],
      "execution_count": 69,
      "outputs": []
    },
    {
      "cell_type": "code",
      "metadata": {
        "colab": {
          "base_uri": "https://localhost:8080/"
        },
        "id": "mI538PlRREXQ",
        "outputId": "30ac8bd3-3a11-41df-daaf-ac0675222604"
      },
      "source": [
        "error_score=metrics.r2_score(y_test,test_prediction)\n",
        "print(\"R squared Error\",error_score)"
      ],
      "execution_count": 70,
      "outputs": [
        {
          "output_type": "stream",
          "name": "stdout",
          "text": [
            "R squared Error -28851.6019597594\n"
          ]
        }
      ]
    },
    {
      "cell_type": "code",
      "metadata": {
        "colab": {
          "base_uri": "https://localhost:8080/",
          "height": 283
        },
        "id": "k8KeQ5HRRWsF",
        "outputId": "f7a4603a-0356-4172-c917-30faf1a8e09a"
      },
      "source": [
        "plt.scatter(y_test,test_prediction)\n",
        "plt.yticks([0,20000,40000,60000,80000])\n",
        "plt.xlabel('Actual Price')\n",
        "plt.ylabel('Prediction')\n",
        "plt.show()"
      ],
      "execution_count": 71,
      "outputs": [
        {
          "output_type": "display_data",
          "data": {
            "image/png": "[encoded data removed]",
            "text/plain": [
              "<Figure size 432x288 with 1 Axes>"
            ]
          },
          "metadata": {
            "needs_background": "light"
          }
        }
      ]
    },
    {
      "cell_type": "markdown",
      "metadata": {
        "id": "wcLA-UzoGlpe"
      },
      "source": [
        "## Ridge Regression"
      ]
    },
    {
      "cell_type": "code",
      "metadata": {
        "id": "_GOut6BE91iH"
      },
      "source": [
        "from sklearn import linear_model"
      ],
      "execution_count": 72,
      "outputs": []
    },
    {
      "cell_type": "code",
      "metadata": {
        "colab": {
          "base_uri": "https://localhost:8080/"
        },
        "id": "P2HR98GAGJlL",
        "outputId": "8fd3ffa3-add5-4b61-bc0c-39c4fd9f15cf"
      },
      "source": [
        "from sklearn.linear_model import Ridge\n",
        "\n",
        "clf = Ridge(alpha=1.0)\n",
        "clf.fit(X_train, y_train)"
      ],
      "execution_count": 73,
      "outputs": [
        {
          "output_type": "execute_result",
          "data": {
            "text/plain": [
              "Ridge(alpha=1.0, copy_X=True, fit_intercept=True, max_iter=None,\n",
              "      normalize=False, random_state=None, solver='auto', tol=0.001)"
            ]
          },
          "metadata": {},
          "execution_count": 73
        }
      ]
    },
    {
      "cell_type": "markdown",
      "metadata": {
        "id": "J70GF3JARyNJ"
      },
      "source": [
        "R2 score"
      ]
    },
    {
      "cell_type": "code",
      "metadata": {
        "id": "tPmv0ppKR3m1"
      },
      "source": [
        "ridge_pre=clf.predict(X_train)\n"
      ],
      "execution_count": 74,
      "outputs": []
    },
    {
      "cell_type": "code",
      "metadata": {
        "id": "wPejCC_aRDXO",
        "colab": {
          "base_uri": "https://localhost:8080/"
        },
        "outputId": "088d2ea9-9690-4fa2-8ad5-faee6d19253e"
      },
      "source": [
        "error_score=metrics.r2_score(y_train,ridge_pre)\n",
        "print(\"R squared Error\",error_score)"
      ],
      "execution_count": 76,
      "outputs": [
        {
          "output_type": "stream",
          "name": "stdout",
          "text": [
            "R squared Error 0.08219265581931456\n"
          ]
        }
      ]
    },
    {
      "cell_type": "code",
      "metadata": {
        "colab": {
          "base_uri": "https://localhost:8080/",
          "height": 278
        },
        "id": "z6_ayPTclzDU",
        "outputId": "c52f8d10-ae4f-4076-b862-1d22a3ea8d7a"
      },
      "source": [
        "plt.scatter(y_train,ridge_pre)\n",
        "plt.yticks([0,2000,4000,6000,8000])\n",
        "plt.xlabel('Actual Price')\n",
        "plt.ylabel('Prediction')\n",
        "plt.show()"
      ],
      "execution_count": 80,
      "outputs": [
        {
          "output_type": "display_data",
          "data": {
            "image/png": "[encoded data removed]",
            "text/plain": [
              "<Figure size 432x288 with 1 Axes>"
            ]
          },
          "metadata": {
            "needs_background": "light"
          }
        }
      ]
    },
    {
      "cell_type": "code",
      "metadata": {
        "id": "XfDPPoOnlgSi"
      },
      "source": [
        "test_pre=clf.predict(X_test)"
      ],
      "execution_count": 77,
      "outputs": []
    },
    {
      "cell_type": "code",
      "metadata": {
        "id": "XIxW-acBR0sP",
        "colab": {
          "base_uri": "https://localhost:8080/"
        },
        "outputId": "e495e920-94c4-4343-dafb-bdf55b18bd0e"
      },
      "source": [
        "error_score=metrics.r2_score(y_test,test_pre)\n",
        "print(\"R squared Error\",error_score)"
      ],
      "execution_count": 78,
      "outputs": [
        {
          "output_type": "stream",
          "name": "stdout",
          "text": [
            "R squared Error -28846.76122640419\n"
          ]
        }
      ]
    },
    {
      "cell_type": "code",
      "metadata": {
        "id": "wlOSNpWHR0kQ",
        "colab": {
          "base_uri": "https://localhost:8080/",
          "height": 278
        },
        "outputId": "ed573761-0385-42fa-e4fb-1d67c51d9328"
      },
      "source": [
        "plt.scatter(y_test,test_pre)\n",
        "plt.yticks([0,2000,4000,6000,8000])\n",
        "plt.xlabel('Actual Price')\n",
        "plt.ylabel('Prediction')\n",
        "plt.show()"
      ],
      "execution_count": 81,
      "outputs": [
        {
          "output_type": "display_data",
          "data": {
            "image/png": "[encoded data removed]",
            "text/plain": [
              "<Figure size 432x288 with 1 Axes>"
            ]
          },
          "metadata": {
            "needs_background": "light"
          }
        }
      ]
    },
    {
      "cell_type": "code",
      "metadata": {
        "id": "-rd4-nTMR0LA"
      },
      "source": [
        ""
      ],
      "execution_count": null,
      "outputs": []
    }
  ]
}